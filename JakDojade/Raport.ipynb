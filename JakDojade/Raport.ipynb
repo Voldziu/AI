{
 "cells": [
  {
   "cell_type": "code",
   "execution_count": 2,
   "outputs": [],
   "source": [
    "from funcs import *\n",
    "from AStar import *\n",
    "from Dijkstra import *\n",
    "from tabu_search import *\n",
    "from DataPreprocessing import *\n",
    "\n",
    "\n",
    "\n",
    "\n",
    "\n"
   ],
   "metadata": {
    "collapsed": false,
    "ExecuteTime": {
     "end_time": "2025-03-26T17:16:51.058442Z",
     "start_time": "2025-03-26T17:16:49.782301Z"
    }
   }
  },
  {
   "cell_type": "markdown",
   "source": [
    "### 1. Wstęp ###"
   ],
   "metadata": {
    "collapsed": false
   }
  },
  {
   "cell_type": "markdown",
   "source": [
    "\n",
    "W ramach zadania zaimplementowano algorytmy wyszukiwania optymalnych tras w komunikacji miejskiej Wrocławia. Zrealizowano dwa główne zadania:\n",
    "\n",
    "Wyszukiwanie najkrótszych połączeń między dwoma przystankami (A i B) z optymalizacją według czasu przejazdu lub liczby przesiadek\n",
    "Wyszukiwanie najkrótszej trasy prowadzącej przez wszystkie przystanki z zadanej listy, rozpoczynającej się i kończącej w punkcie A (wariant problemu komiwojażera)\n",
    "\n",
    "Każde z zadań zostało zrealizowane przy użyciu odpowiednich technik algorytmicznych, w tym algorytmu Dijkstry, algorytmu A* oraz metaheurystyki przeszukiwania Tabu."
   ],
   "metadata": {
    "collapsed": false
   }
  },
  {
   "cell_type": "markdown",
   "source": [],
   "metadata": {
    "collapsed": false
   }
  },
  {
   "cell_type": "markdown",
   "source": [
    "### 2. Wykorzystane biblioteki ###"
   ],
   "metadata": {
    "collapsed": false
   }
  },
  {
   "cell_type": "markdown",
   "source": [
    "Pandas - Wykorzystany do wczytywania i przetwarzania danych z pliku CSV zawierającego informacje o połączeniach komunikacji miejskiej\n",
    "\n",
    "Heapq - Implementacja kolejki priorytetowej, niezbędnej w algorytmach Dijkstry"
   ],
   "metadata": {
    "collapsed": false
   }
  },
  {
   "cell_type": "markdown",
   "source": [
    "### 3. Opis algorytmów ###"
   ],
   "metadata": {
    "collapsed": false
   }
  },
  {
   "cell_type": "markdown",
   "source": [
    "Główne założenia:\n",
    "- Sparsowano dane z pliku CSV (*DataPreprocessing.py*) do postaci grafu, którego nazywano później *Adjacency* (*funcs.py/build_adjacency*)\n",
    "- Graf ma strukturę: {Nazwa_przystanku: {(linia,nastepny_przystanek): [(czas_odjazdu,czas_przyjazdu)]}}\n",
    "- Graf o takiej strukturze bardzo zawęża możliwości wyboru linii, gdyż nie trzeba sprawdzać wszystkich odjazdów, ale ograniczyć się do po jednym odjeździe z każdej linii, w obu kierunkach.\n",
    "- Do wyszukania \"łapalnych\" (Catchable) połączeń użyto funkcji *funcs.py/get_neighbours*"
   ],
   "metadata": {
    "collapsed": false
   }
  },
  {
   "cell_type": "markdown",
   "source": [
    "### 3.0  budowa grafu ###"
   ],
   "metadata": {
    "collapsed": false
   }
  },
  {
   "cell_type": "code",
   "execution_count": 3,
   "outputs": [
    {
     "name": "stderr",
     "output_type": "stream",
     "text": [
      "/Users/mikolajmachalski/PycharmProjects/Sztuczna/JakDojade/DataPreprocessing.py:10: DtypeWarning: Columns (2) have mixed types. Specify dtype option on import or set low_memory=False.\n",
      "  df = pd.read_csv(csv_filename)\n"
     ]
    }
   ],
   "source": [
    "df = data_preprocessing(csv_file_name)\n",
    "adjacency, station_coords = build_adjacency(df)\n",
    "with open(\"graph.pickle\", \"wb\") as f:\n",
    "    pickle.dump((adjacency, station_coords), f)"
   ],
   "metadata": {
    "collapsed": false,
    "ExecuteTime": {
     "end_time": "2025-03-26T17:17:08.291109Z",
     "start_time": "2025-03-26T17:16:51.058683Z"
    }
   }
  },
  {
   "cell_type": "code",
   "execution_count": 4,
   "outputs": [],
   "source": [
    " with open(\"graph.pickle\", \"rb\") as f:\n",
    "        adjacency, station_coords = pickle.load(f)\n"
   ],
   "metadata": {
    "collapsed": false,
    "ExecuteTime": {
     "end_time": "2025-03-26T17:17:08.423526Z",
     "start_time": "2025-03-26T17:17:08.291573Z"
    }
   }
  },
  {
   "cell_type": "code",
   "execution_count": 5,
   "outputs": [],
   "source": [
    "START_STATION = 'Przyjaźni'\n",
    "END_STATION = 'Piastowska'\n",
    "START_TIME_STR = \"19:00:00\"\n",
    "START_TIME = parse_time(START_TIME_STR)"
   ],
   "metadata": {
    "collapsed": false,
    "ExecuteTime": {
     "end_time": "2025-03-26T17:17:08.423787Z",
     "start_time": "2025-03-26T17:17:08.421588Z"
    }
   }
  },
  {
   "cell_type": "markdown",
   "source": [
    "#### 3.1 Wyszukiwanie najkrótszych połączeń między dwoma przystankami ####"
   ],
   "metadata": {
    "collapsed": false
   }
  },
  {
   "cell_type": "markdown",
   "source": [
    "### 3.1.1 Dijkstra ###"
   ],
   "metadata": {
    "collapsed": false
   }
  },
  {
   "cell_type": "markdown",
   "source": [
    "*Implementacja algorytmu Dijkstry, jak i pozostałych, znajduje się w odpowiednim pliku .py*\n",
    "\n",
    "\n"
   ],
   "metadata": {
    "collapsed": false
   }
  },
  {
   "cell_type": "markdown",
   "source": [
    "Algorytm Dijkstry to klasyczny algorytm znajdowania najkrótszych ścieżek w grafie ważonym o nieujemnych wagach. Główna idea algorytmu:\n",
    "\n",
    "1. Inicjalizacja: odległość do węzła startowego = 0, do pozostałych węzłów = nieskończoność\n",
    "2. Utrzymywanie zbioru odwiedzonych węzłów i kolejki priorytetowej węzłów do odwiedzenia\n",
    "3. W każdej iteracji wybierany jest węzeł o najmniejszej odległości od źródła\n",
    "4. Aktualizowane są odległości do sąsiadów wybranego węzła\n",
    "5. Algorytm kończy się, gdy wszystkie węzły zostały odwiedzone lub gdy osiągnięto węzeł docelowy"
   ],
   "metadata": {
    "collapsed": false
   }
  },
  {
   "cell_type": "code",
   "execution_count": 6,
   "outputs": [],
   "source": [
    "end_node = dijkstra(adjacency,START_STATION, END_STATION, START_TIME)"
   ],
   "metadata": {
    "collapsed": false,
    "ExecuteTime": {
     "end_time": "2025-03-26T17:17:08.485034Z",
     "start_time": "2025-03-26T17:17:08.461488Z"
    }
   }
  },
  {
   "cell_type": "code",
   "execution_count": 7,
   "outputs": [
    {
     "ename": "AttributeError",
     "evalue": "'tuple' object has no attribute 'parent'",
     "output_type": "error",
     "traceback": [
      "\u001B[0;31m---------------------------------------------------------------------------\u001B[0m",
      "\u001B[0;31mAttributeError\u001B[0m                            Traceback (most recent call last)",
      "Cell \u001B[0;32mIn[7], line 1\u001B[0m\n\u001B[0;32m----> 1\u001B[0m \u001B[43mprint_whole_stats\u001B[49m\u001B[43m(\u001B[49m\u001B[43mend_node\u001B[49m\u001B[43m,\u001B[49m\n\u001B[1;32m      2\u001B[0m \u001B[43m                      \u001B[49m\u001B[43mstart_station\u001B[49m\u001B[38;5;241;43m=\u001B[39;49m\u001B[43mSTART_STATION\u001B[49m\u001B[43m,\u001B[49m\n\u001B[1;32m      3\u001B[0m \u001B[43m                      \u001B[49m\u001B[43mend_station\u001B[49m\u001B[38;5;241;43m=\u001B[39;49m\u001B[43mEND_STATION\u001B[49m\u001B[43m,\u001B[49m\n\u001B[1;32m      4\u001B[0m \u001B[43m                      \u001B[49m\u001B[43mstart_time\u001B[49m\u001B[38;5;241;43m=\u001B[39;49m\u001B[43mSTART_TIME\u001B[49m\u001B[43m,\u001B[49m\n\u001B[1;32m      5\u001B[0m \u001B[43m                      \u001B[49m\u001B[43m)\u001B[49m\n",
      "File \u001B[0;32m~/PycharmProjects/Sztuczna/JakDojade/printing.py:117\u001B[0m, in \u001B[0;36mprint_whole_stats\u001B[0;34m(end_node, start_station, end_station, start_time)\u001B[0m\n\u001B[1;32m    114\u001B[0m     \u001B[38;5;28mprint\u001B[39m(\u001B[38;5;124m\"\u001B[39m\u001B[38;5;124mThere\u001B[39m\u001B[38;5;124m'\u001B[39m\u001B[38;5;124ms no connection between those stations.\u001B[39m\u001B[38;5;124m\"\u001B[39m)\n\u001B[1;32m    115\u001B[0m     sys\u001B[38;5;241m.\u001B[39mexit(\u001B[38;5;241m1\u001B[39m)\n\u001B[0;32m--> 117\u001B[0m path \u001B[38;5;241m=\u001B[39m \u001B[43mreconstruct_path\u001B[49m\u001B[43m(\u001B[49m\u001B[43mend_node\u001B[49m\u001B[43m)\u001B[49m\n\u001B[1;32m    118\u001B[0m \u001B[38;5;28;01mif\u001B[39;00m \u001B[38;5;129;01mnot\u001B[39;00m path:\n\u001B[1;32m    119\u001B[0m     \u001B[38;5;28mprint\u001B[39m(\u001B[38;5;124m\"\u001B[39m\u001B[38;5;124mNo connection (parent invalid)\u001B[39m\u001B[38;5;124m\"\u001B[39m)\n",
      "File \u001B[0;32m~/PycharmProjects/Sztuczna/JakDojade/printing.py:16\u001B[0m, in \u001B[0;36mreconstruct_path\u001B[0;34m(end_node)\u001B[0m\n\u001B[1;32m     14\u001B[0m current \u001B[38;5;241m=\u001B[39m end_node\n\u001B[1;32m     15\u001B[0m \u001B[38;5;66;03m#print(current)\u001B[39;00m\n\u001B[0;32m---> 16\u001B[0m \u001B[38;5;28;01mwhile\u001B[39;00m \u001B[43mcurrent\u001B[49m\u001B[38;5;241;43m.\u001B[39;49m\u001B[43mparent\u001B[49m \u001B[38;5;129;01mis\u001B[39;00m \u001B[38;5;129;01mnot\u001B[39;00m \u001B[38;5;28;01mNone\u001B[39;00m:\n\u001B[1;32m     17\u001B[0m     \u001B[38;5;66;03m#print(current)\u001B[39;00m\n\u001B[1;32m     18\u001B[0m     path\u001B[38;5;241m.\u001B[39mappend(current\u001B[38;5;241m.\u001B[39medge)\n\u001B[1;32m     19\u001B[0m     current \u001B[38;5;241m=\u001B[39m current\u001B[38;5;241m.\u001B[39mparent\n",
      "\u001B[0;31mAttributeError\u001B[0m: 'tuple' object has no attribute 'parent'"
     ]
    }
   ],
   "source": [
    "print_whole_stats(end_node,\n",
    "                      start_station=START_STATION,\n",
    "                      end_station=END_STATION,\n",
    "                      start_time=START_TIME,\n",
    "                      )"
   ],
   "metadata": {
    "collapsed": false,
    "ExecuteTime": {
     "end_time": "2025-03-26T17:17:08.623951Z",
     "start_time": "2025-03-26T17:17:08.485873Z"
    }
   }
  },
  {
   "cell_type": "markdown",
   "source": [
    "### 3.1.2 A* ###"
   ],
   "metadata": {
    "collapsed": false
   }
  },
  {
   "cell_type": "markdown",
   "source": [
    "Algorytm A* rozszerza algorytm Dijkstry o heurystykę, która kieruje przeszukiwanie w stronę celu. Kluczowe elementy:\n",
    "\n",
    "1. Funkcja oceny f(n) = g(n) + h(n), gdzie:\n",
    "    a) g(n) to dotychczasowy koszt dotarcia do węzła n\n",
    "    b) h(n) to heurystyczne oszacowanie kosztu dotarcia z węzła n do celu. Użyto haversine distance, czyli odległości między dwoma punktami na sferze. Potem wyliczono szacunowy czas przejazdu przyjmując 20 km/h jako średnią prędkość.\n",
    "\n",
    "\n",
    "2. A* wykorzystuje dwie listy: otwartą (węzły do odwiedzenia) i zamkniętą (węzły odwiedzone)\n",
    "W każdej iteracji wybierany jest węzeł z listy otwartej o najniższej wartości f(n)\n",
    "Generowani są następnicy wybranego węzła i dodawani do listy otwartej\n",
    "Algorytm kończy się, gdy cel zostanie osiągnięty lub lista otwarta będzie pusta\n",
    "\n",
    "\n",
    "3. Tryby:\n",
    "    a) Dla optymalizacji czasu przejazdu: brak kary za przesiadki\n",
    "    b) Dla optymalizacji liczby przesiadek: kara za przesiadkę 1800 sekund\n",
    "\n",
    "\n",
    "4. Uwagi ogólne:\n",
    "    a) Przyjęto, że na przesiadkę trzeba poczekać conajmniej 2 minuty.\n",
    "\n"
   ],
   "metadata": {
    "collapsed": false
   }
  },
  {
   "cell_type": "markdown",
   "source": [
    "### 3.1.2.1 Modyfikacja A*"
   ],
   "metadata": {
    "collapsed": false
   }
  },
  {
   "cell_type": "markdown",
   "source": [
    "Zawężono wyszukiwanie sąsiadów jedynie do unikalnych par (linia, kierunek). Pozwoliło to na obniżenie czasu obliczeń 20 razy, z około 3.7 sekund do 0.2 sekundy."
   ],
   "metadata": {
    "collapsed": false
   }
  },
  {
   "cell_type": "code",
   "execution_count": null,
   "outputs": [],
   "source": [
    "end_node = a_star_proper(START_STATION, END_STATION, START_TIME,mode=\"TRANSFERS\")"
   ],
   "metadata": {
    "collapsed": false
   }
  },
  {
   "cell_type": "code",
   "execution_count": null,
   "outputs": [],
   "source": [
    "print_whole_stats(end_node,\n",
    "                      start_station=START_STATION,\n",
    "                      end_station=END_STATION,\n",
    "                      start_time=START_TIME,\n",
    "                      )"
   ],
   "metadata": {
    "collapsed": false
   }
  },
  {
   "cell_type": "code",
   "execution_count": null,
   "outputs": [],
   "source": [
    "end_node = a_star_proper(START_STATION, END_STATION, START_TIME,mode=\"TIME\")"
   ],
   "metadata": {
    "collapsed": false
   }
  },
  {
   "cell_type": "code",
   "execution_count": null,
   "outputs": [],
   "source": [
    "print_whole_stats(end_node,\n",
    "                      start_station=START_STATION,\n",
    "                      end_station=END_STATION,\n",
    "                      start_time=START_TIME,\n",
    "                      )"
   ],
   "metadata": {
    "collapsed": false
   }
  },
  {
   "cell_type": "markdown",
   "source": [
    "### 3.2 Problem komiwojażera ###"
   ],
   "metadata": {
    "collapsed": false
   }
  },
  {
   "cell_type": "markdown",
   "source": [
    "3.2.1 Opis teoretyczny"
   ],
   "metadata": {
    "collapsed": false
   }
  },
  {
   "cell_type": "markdown",
   "source": [
    "\n",
    "*3.2.1.1 Problem komiwojażera (TSP)*\n",
    "\n",
    "Problem komiwojażera (Traveling Salesman Problem, TSP) polega na znalezieniu najkrótszej trasy odwiedzającej wszystkie zadane punkty dokładnie raz i wracającej do punktu początkowego. Jest to klasyczny problem NP-trudny, co oznacza, że nie istnieje algorytm wielomianowy rozwiązujący go optymalnie dla dowolnych danych wejściowych.\n",
    "W kontekście komunikacji miejskiej problem sprowadza się do znalezienia optymalnej trasy prowadzącej przez zadane przystanki, minimalizującej łączny czas przejazdu lub liczbę przesiadek.\n"
   ],
   "metadata": {
    "collapsed": false
   }
  },
  {
   "cell_type": "markdown",
   "source": [
    "*3.2.1.2 Przeszukiwanie Tabu (Tabu Search)*\n",
    "\n",
    "Kluczowe elementy:\n",
    "\n",
    "Lista Tabu: Przechowuje ruchy, które są tymczasowo zabronione, aby uniknąć cykli i zakleszczenia w lokalnych minimach\n",
    "Definiowanie sąsiedztwa: Określa zbiór możliwych ruchów z bieżącego rozwiązania\n",
    "Kryterium aspiracji: Pozwala na wykonanie ruchu z listy Tabu, jeśli prowadzi on do rozwiązania lepszego niż najlepsze znane\n"
   ],
   "metadata": {
    "collapsed": false
   }
  },
  {
   "cell_type": "markdown",
   "source": [
    "*3.2.2 Modyfikacje algorytmu przeszukiwania Tabu*\n",
    "\n",
    "\n"
   ],
   "metadata": {
    "collapsed": false
   }
  },
  {
   "cell_type": "markdown",
   "source": [
    "- Dynamiczne dostosowanie rozmiaru listy Tabu: Jest ona zależna od dlugości listy przystanków (3 * n)\n",
    "\n",
    "- Implementacja mechanizmu aspiracji: Jeżeli ruch jest w tabu i jest lepszy niż obecny plus epsilon aspiracji, wtedy i tak bierzemy ten ruch\n",
    "- Strategie próbkowania sąsiedztwa: Wybrano stałą liczbę sąsiadów, którą można wygenerować z bieżącego rozwiązania (10)"
   ],
   "metadata": {
    "collapsed": false
   }
  },
  {
   "cell_type": "markdown",
   "source": [
    "### 3.2.3 Napotkane problemy ###"
   ],
   "metadata": {
    "collapsed": false
   }
  },
  {
   "cell_type": "markdown",
   "source": [
    "1. Przy długiej trasie, przekraczającej kilkanaście godzin, algorytm kończył działanie, kończył mu się czas\n",
    "2. Odpowiednie wykrywanie braku przesiadek, aby zaliczyć 2 przejazdy jedną linią\n",
    "3. Odpowiedni wykrywanie przesiadki na zawracaniu (np. na pętli)\n",
    "4. Cachowanie wyników, aby zaoszczećić czas obliczeń. Cache'owanie wyników dla samego algorytmu A*, jak i dla permutacji w tabu_search\n",
    "5. Odpowiednie wybieranie sąsiadów w tabu_search, aby nie wybierać wszystkich sąsiadów, ale jedynie część."
   ],
   "metadata": {
    "collapsed": false
   }
  },
  {
   "cell_type": "code",
   "execution_count": null,
   "outputs": [],
   "source": [
    "start_station= \"KRZYKI\"\n",
    "stations_string = \"Kliniki - Politechnika Wrocławska;BISKUPIN;Stalowa;Krucza;rondo Św. Ojca Pio;most Grunwaldzki;SĘPOLNO\"\n",
    "START_TIME_STR = \"06:40:00\"\n",
    "START_TIME = parse_time(START_TIME_STR)\n",
    "best_solution, best_cost,route_cache = tabu_search(start_station,stations_string,START_TIME,mode=\"TIME\")\n",
    "\n",
    "decode_and_print_solution(\n",
    "                            route_cache=route_cache,\n",
    "                            start_station=start_station,\n",
    "                            stations_string=stations_string,\n",
    "                            solution=best_solution,\n",
    "                            start_time=START_TIME,\n",
    "\n",
    "\n",
    "\n",
    "                          )"
   ],
   "metadata": {
    "collapsed": false
   }
  },
  {
   "cell_type": "markdown",
   "source": [
    "### PRZYKŁADY ###\n"
   ],
   "metadata": {
    "collapsed": false
   }
  },
  {
   "cell_type": "code",
   "execution_count": 10,
   "outputs": [],
   "source": [
    "# Dane do pojedynczych wycieczek:\n",
    "\n",
    "single_examples_list = [\n",
    "    (\"Piastowska\",\"Przyjaźni\",\"19:00:00\"),\n",
    "    (\"most Grunwaldzki\",\"Kochanowskiego\",\"06:40:00\"),\n",
    "    (\"Stalowa\",\"KRZYKI\",\"15:40:00\"),\n",
    "    (\"SĘPOLNO\",\"Bajana\",\"15:00:00\"),\n",
    "    (\"Bielany Wrocławskie - Kwiatowa\",\"Psie Pole (Rondo Lotników Polskich)\",\"10:00:00\")\n",
    "\n",
    "]\n",
    "\n",
    "tsp_examples_list = [\n",
    "    (\"KRZYKI\",\"most Grunwaldzki;Kochanowskiego;Wiśniowa;PL. JANA PAWŁA II\",\"10:00:00\"),\n",
    "    (\"Bajana\",\"GRABISZYŃSKA (Cmentarz);ZOO;Urząd Wojewódzki (Muzeum Narodowe);most Grunwaldzki;Kochanowskiego;Wiśniowa;PL. JANA PAWŁA II\",\"11:00:00\"),\n",
    "    (\"Stalowa\",\"GRABISZYŃSKA (Cmentarz);Fiołkowa;FAT;Hutmen;Bzowa (Centrum Historii Zajezdnia)\",\"15:40:00\"),\n",
    "    (\"Katedra\",\"Kliniki - Politechnika Wrocławska;BISKUPIN;Stalowa;Krucza;rondo Św. Ojca Pio;most Grunwaldzki;SĘPOLNO\",\"06:00:00\"),\n",
    "    (\"Stalowa\",\"Tarczyński Arena (Lotnicza);Niedźwiedzia;Bujwida;PARK POŁUDNIOWY;Na Niskich Łąkach;BISKUPIN\",\"11:40:00\"),\n",
    "    ]\n",
    "\n",
    "\n"
   ],
   "metadata": {
    "collapsed": false,
    "ExecuteTime": {
     "end_time": "2025-03-26T17:24:31.175011Z",
     "start_time": "2025-03-26T17:24:31.160595Z"
    }
   }
  },
  {
   "cell_type": "code",
   "execution_count": 14,
   "outputs": [],
   "source": [
    "#Dijkstra\n",
    "dijkstra_results ={}\n",
    "for example in single_examples_list:\n",
    "    start,end,time = example\n",
    "    nodes_visited,edges_seen,end_node = dijkstra(adjacency,start,end,parse_time(time))\n",
    "    dijkstra_results[example] = (nodes_visited,edges_seen,end_node)\n"
   ],
   "metadata": {
    "collapsed": false,
    "ExecuteTime": {
     "end_time": "2025-03-26T17:30:11.236265Z",
     "start_time": "2025-03-26T17:30:10.736467Z"
    }
   }
  },
  {
   "cell_type": "code",
   "execution_count": 15,
   "outputs": [],
   "source": [
    "#A* time\n",
    "astar_time_results ={}\n",
    "for example in single_examples_list:\n",
    "    start,end,time = example\n",
    "    nodes_visited,edges_seen,end_node = a_star_proper(start,end,parse_time(time),mode=\"TIME\")\n",
    "    astar_time_results[example] = (nodes_visited,edges_seen,end_node)"
   ],
   "metadata": {
    "collapsed": false,
    "ExecuteTime": {
     "end_time": "2025-03-26T17:30:23.004858Z",
     "start_time": "2025-03-26T17:30:20.894054Z"
    }
   }
  },
  {
   "cell_type": "code",
   "execution_count": 16,
   "outputs": [],
   "source": [
    "#A* transfers\n",
    "astar_transfers_results ={}\n",
    "for example in single_examples_list:\n",
    "    start,end,time = example\n",
    "    nodes_visited,edges_seen,end_node = a_star_proper(start,end,parse_time(time),mode=\"TRANSFERS\")\n",
    "    astar_transfers_results[example] = (nodes_visited,edges_seen,end_node)"
   ],
   "metadata": {
    "collapsed": false,
    "ExecuteTime": {
     "end_time": "2025-03-26T17:30:24.264259Z",
     "start_time": "2025-03-26T17:30:23.005474Z"
    }
   }
  },
  {
   "cell_type": "code",
   "execution_count": null,
   "outputs": [],
   "source": [],
   "metadata": {
    "collapsed": false
   }
  },
  {
   "cell_type": "markdown",
   "source": [
    "### WNIOSKI\n",
    " ###"
   ],
   "metadata": {
    "collapsed": false
   }
  },
  {
   "cell_type": "markdown",
   "source": [
    "1. Co ciekawe, algorytm Dijkstry jest zawsze szybszy od A*. Możliwe, że wynika to z faktu, że A* dodatkowo liczy heurystykę, co zwiększa czas obliczeń. Liczba odwiedzonych węzłów jest sporo większa (680 w A* do 3000 Dijkstra).\n",
    "2. Wprowadzenie modyfikacji grafu jak i wyszukiwaniu sąsiadów pozwoliło na bardzo duże obniżenie czasu obliczeń. Wcześciej algorytm iterował po wszystkich możliwych, łapalnych kursach. Teraz, ogranicza się do unikalnych par (linia, kierunek).\n",
    "3. Trasa wyznaczana w problemie komiwojażera skutecznie wybiera trasy i potrzebne przesiadki.(Lub skutecznie wykrywa brak potrzeby przesiadki)\n",
    "4."
   ],
   "metadata": {
    "collapsed": false
   }
  },
  {
   "cell_type": "code",
   "execution_count": null,
   "outputs": [],
   "source": [],
   "metadata": {
    "collapsed": false
   }
  }
 ],
 "metadata": {
  "kernelspec": {
   "display_name": "Python 3",
   "language": "python",
   "name": "python3"
  },
  "language_info": {
   "codemirror_mode": {
    "name": "ipython",
    "version": 2
   },
   "file_extension": ".py",
   "mimetype": "text/x-python",
   "name": "python",
   "nbconvert_exporter": "python",
   "pygments_lexer": "ipython2",
   "version": "2.7.6"
  }
 },
 "nbformat": 4,
 "nbformat_minor": 0
}
