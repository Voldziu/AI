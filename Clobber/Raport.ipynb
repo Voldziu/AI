{
 "cells": [
  {
   "cell_type": "markdown",
   "source": [
    "### Raport: Implementacja algorytmu Minimax z cięciami alfa-beta dla gry Clobber ###"
   ],
   "metadata": {
    "collapsed": false
   }
  },
  {
   "cell_type": "markdown",
   "source": [
    "### 1. Wprowadzenie ###\n"
   ],
   "metadata": {
    "collapsed": false
   }
  },
  {
   "cell_type": "raw",
   "source": [
    "\n",
    "Niniejszy raport przedstawia implementację algorytmu Minimax z cięciami alfa-beta dla gry Clobber. Clobber to strategiczna gra planszowa dla dwóch graczy, w której celem jest wykonanie ostatniego możliwego ruchu. Projekt ten stanowi praktyczne zastosowanie teorii gier oraz metod przeszukiwania drzewa gry w kontekście sztucznej inteligencji.\n",
    "Implementacja została zrealizowana w języku Python z wykorzystaniem struktur danych biblioteki NumPy. Projekt składa się z trzech głównych modułów:\n",
    "\n",
    "Clobber.py - klasa reprezentująca stan gry oraz funkcje do uruchomienia rozgrywki\n",
    "ClobberHeuristic.py - implementacje różnych funkcji heurystycznych\n",
    "MinimaxAgent.py - implementacja agentów Minimax z i bez cięć alfa-beta"
   ],
   "metadata": {
    "collapsed": false
   }
  },
  {
   "cell_type": "markdown",
   "source": [
    "### 2. Opis teoretyczny metody ###"
   ],
   "metadata": {
    "collapsed": false
   }
  },
  {
   "cell_type": "raw",
   "source": [
    "\n",
    "2.1. Algorytm Minimax\n",
    "Algorytm Minimax jest fundamentalną techniką wykorzystywaną w podejmowaniu decyzji w grach dwuosobowych o sumie zerowej. Opiera się na założeniu, że jeden gracz (MAX) dąży do maksymalizacji swojej funkcji użyteczności, podczas gdy drugi gracz (MIN) dąży do jej minimalizacji.\n",
    "Algorytm działa rekurencyjnie, przeszukując drzewo gry do określonej głębokości. Na poziomach MAX wybierany jest ruch prowadzący do stanu o najwyższej wartości, natomiast na poziomach MIN wybierany jest ruch prowadzący do stanu o najniższej wartości. Wartości stanów końcowych (lub stanów na maksymalnej głębokości przeszukiwania) są określane przez funkcję heurystyczną oceniającą korzystność danego stanu dla gracza MAX.\n",
    "Pseudokod algorytmu Minimax:\n",
    "function minimax(node, depth, maximizingPlayer):\n",
    "    if depth == 0 or node is terminal:\n",
    "        return heuristic_value(node)\n",
    "\n",
    "    if maximizingPlayer:\n",
    "        value = -∞\n",
    "        for each child of node:\n",
    "            value = max(value, minimax(child, depth-1, false))\n",
    "        return value\n",
    "    else:\n",
    "        value = +∞\n",
    "        for each child of node:\n",
    "            value = min(value, minimax(child, depth-1, true))\n",
    "        return value"
   ],
   "metadata": {
    "collapsed": false
   }
  },
  {
   "cell_type": "raw",
   "source": [
    "2.2. Cięcia alfa-beta\n",
    "Cięcia alfa-beta są optymalizacją algorytmu Minimax, która pozwala na pomijanie gałęzi drzewa, które z pewnością nie wpłyną na końcową decyzję. Dzięki temu możliwe jest znaczne przyspieszenie procesu przeszukiwania bez wpływu na jakość podejmowanych decyzji.\n",
    "W algorytmie alfa-beta utrzymywane są dwie wartości:\n",
    "\n",
    "α (alfa) - najlepsza wartość znaleziona dotychczas dla gracza MAX\n",
    "β (beta) - najlepsza wartość znaleziona dotychczas dla gracza MIN\n",
    "\n",
    "Podczas przeszukiwania, jeśli zostanie znaleziona wartość, która jest gorsza od już znalezionej (dla aktualnego gracza), to przeszukiwanie pozostałych potomków danego węzła zostaje przerwane.\n",
    "Pseudokod algorytmu Minimax z cięciami alfa-beta:\n",
    "function alphabeta(node, depth, α, β, maximizingPlayer):\n",
    "    if depth == 0 or node is terminal:\n",
    "        return heuristic_value(node)\n",
    "\n",
    "    if maximizingPlayer:\n",
    "        value = -∞\n",
    "        for each child of node:\n",
    "            value = max(value, alphabeta(child, depth-1, α, β, false))\n",
    "            α = max(α, value)\n",
    "            if α >= β:\n",
    "                break // cięcie beta\n",
    "        return value\n",
    "    else:\n",
    "        value = +∞\n",
    "        for each child of node:\n",
    "            value = min(value, alphabeta(child, depth-1, α, β, true))\n",
    "            β = min(β, value)\n",
    "            if β <= α:\n",
    "                break // cięcie alfa\n",
    "        return value"
   ],
   "metadata": {
    "collapsed": false
   }
  },
  {
   "cell_type": "markdown",
   "source": [
    "### 3. Formalne sformułowanie problemu ###"
   ],
   "metadata": {
    "collapsed": false
   }
  },
  {
   "cell_type": "markdown",
   "source": [
    "3.1. Opis gry Clobber\n",
    "Clobber to gra planszowa dla dwóch graczy rozgrywana na szachownicy o wymiarach n×m (standardowo 5×6). Na początku gry plansza jest całkowicie pokryta pionkami: czarne na czarnych polach, białe na białych. Grę rozpoczyna gracz czarny. Gracze wykonują ruchy naprzemiennie według następujących zasad:\n",
    "\n",
    "Ruch polega na przesunięciu swojego pionka na sąsiednie pole (w pionie lub poziomie), które jest zajmowane przez pionek przeciwnika.\n",
    "Pionek przeciwnika zostaje zbity i usunięty z planszy.\n",
    "Gracz wygrywa, gdy przeciwnik nie może wykonać żadnego ruchu."
   ],
   "metadata": {
    "collapsed": false
   }
  },
  {
   "cell_type": "markdown",
   "source": [
    "3.2. Formalna definicja problemu\n",
    "Formalnie problem można zdefiniować jako:\n",
    "\n",
    "Stan gry: Reprezentacja planszy Clobber o wymiarach n×m, gdzie każde pole może być puste, zawierać pionek gracza pierwszego (B) lub pionek gracza drugiego (W).\n",
    "Akcje: Zbiór wszystkich legalnych ruchów dostępnych dla aktualnego gracza w danym stanie.\n",
    "Model przejścia: Funkcja, która dla danego stanu i akcji zwraca nowy stan powstały po wykonaniu tej akcji.\n",
    "Test końca gry: Predykat sprawdzający, czy dany stan jest stanem końcowym (żaden gracz nie może wykonać ruchu).\n",
    "Funkcja użyteczności: Wartość liczbowa przypisana stanom końcowym (1 dla wygranej gracza pierwszego, -1 dla wygranej gracza drugiego).\n",
    "Funkcja heurystyczna: Funkcja oceniająca korzystność stanów nieterminalnych dla aktualnego gracza.\n",
    "\n"
   ],
   "metadata": {
    "collapsed": false
   }
  },
  {
   "cell_type": "markdown",
   "source": [
    "3.3. Ograniczenia\n",
    "Problem przeszukiwania drzewa gry dla Clobber podlega następującym ograniczeniom:\n",
    "\n",
    "Złożoność obliczeniowa: Liczba możliwych stanów rośnie wykładniczo z głębokością przeszukiwania.\n",
    "Ograniczenia czasowe: Ze względu na złożoność obliczeniową, głębokość przeszukiwania musi być ograniczona.\n",
    "Jakość heurystyki: Efektywność algorytmu silnie zależy od trafności funkcji heurystycznej.\n",
    "\n"
   ],
   "metadata": {
    "collapsed": false
   }
  },
  {
   "cell_type": "markdown",
   "source": [
    "### 4. Opis implementacji ###"
   ],
   "metadata": {
    "collapsed": false
   }
  },
  {
   "cell_type": "raw",
   "source": [
    "4.1. Reprezentacja stanu gry\n",
    "Stan gry reprezentowany jest w klasie ClobberGame, która zawiera planszę jako dwuwymiarową tablicę NumPy o wymiarach n×m, gdzie każde pole może zawierać:\n",
    "\n",
    "'B' - pionek gracza pierwszego (czarny)\n",
    "'W' - pionek gracza drugiego (biały)\n",
    "'_' - pole puste\n",
    "\n",
    "class ClobberGame:\n",
    "    def __init__(self, board=None, size=(5, 6)):\n",
    "        self.size = size\n",
    "        if board is None:\n",
    "            # Inicjalizacja domyślnej planszy startowej (szachownica)\n",
    "            self.board = np.empty(size, dtype=str)\n",
    "            for i in range(size[0]):\n",
    "                for j in range(size[1]):\n",
    "                    if (i + j) % 2 == 0:\n",
    "                        self.board[i, j] = 'W'\n",
    "                    else:\n",
    "                        self.board[i, j] = 'B'\n",
    "        else:\n",
    "            self.board = board\n",
    "Klasa zawiera również metody do wyświetlania planszy, sprawdzania zakończenia gry oraz tworzenia głębokiej kopii stanu z wprowadzonymi zmianami:\n",
    "def print_board(self):\n",
    "    for i in range(self.size[0]):\n",
    "        row = ' '.join(self.board[i])\n",
    "        print(row)\n",
    "\n",
    "def is_game_over(self):\n",
    "    return (len(self.get_possible_moves('B')) == 0 and\n",
    "            len(self.get_possible_moves('W')) == 0)\n",
    "\n",
    "def make_move(self, move):\n",
    "    # Głęboka kopia obecnej planszy\n",
    "    new_board = copy.deepcopy(self.board)\n",
    "\n",
    "    # Wykonanie ruchu\n",
    "    x1, y1, x2, y2 = move\n",
    "    piece = new_board[x1, y1]\n",
    "    new_board[x2, y2] = piece  # Ustawienie pionka\n",
    "    new_board[x1, y1] = '_'    # Usunięcie pionka z poprzedniej pozycji\n",
    "\n",
    "    return ClobberGame(new_board, self.size)"
   ],
   "metadata": {
    "collapsed": false
   }
  },
  {
   "cell_type": "raw",
   "source": [
    "4.2. Generowanie ruchów\n",
    "Metoda get_possible_moves generuje wszystkie możliwe ruchy dla danego gracza w bieżącym stanie gry:\n",
    "def get_possible_moves(self, player):\n",
    "    moves = []\n",
    "\n",
    "    # Kierunki ruchu (góra, dół, lewo, prawo)\n",
    "    directions = [(-1, 0), (1, 0), (0, -1), (0, 1)]\n",
    "\n",
    "    for i in range(self.size[0]):\n",
    "        for j in range(self.size[1]):\n",
    "            if self.board[i, j] == player:  # W lub B\n",
    "                for di, dj in directions:\n",
    "                    ni, nj = i + di, j + dj\n",
    "\n",
    "                    # Sprawdzenie czy ruch jest w granicach planszy\n",
    "                    if 0 <= ni < self.size[0] and 0 <= nj < self.size[1]:\n",
    "                        opponent = 'W' if player == 'B' else 'B'\n",
    "                        if self.board[ni, nj] == opponent:\n",
    "                            moves.append((i, j, ni, nj))\n",
    "\n",
    "    return moves"
   ],
   "metadata": {
    "collapsed": false
   }
  },
  {
   "cell_type": "markdown",
   "source": [
    "4.3. Funkcje heurystyczne\n",
    "W projekcie zastosowano wzorzec projektowy strategii, implementując abstrakcyjną klasę bazową ClobberHeuristic i dziedziczące po niej konkretne funkcje heurystyczne:\n",
    "pythonclass ClobberHeuristic(ABC):\n",
    "    \"\"\"Interface\"\"\"\n",
    "    @abstractmethod\n",
    "    def evaluate(self, game, player):\n",
    "        pass\n",
    "Zaimplementowano pięć różnych strategii heurystycznych:"
   ],
   "metadata": {
    "collapsed": false
   }
  },
  {
   "cell_type": "markdown",
   "source": [
    "4.3.1. MobilityDifferenceHeuristic - Różnica mobilności\n",
    "Ta strategia opiera się na różnicy między liczbą dostępnych ruchów dla gracza a liczbą dostępnych ruchów dla przeciwnika.\n",
    "\n",
    "\n",
    "pythonclass MobilityDifferenceHeuristic(ClobberHeuristic):\n",
    "    \"\"\"Difference in mobility between players\"\"\"\n",
    "    def evaluate(self, game, player):\n",
    "        opponent = 'W' if player == 'B' else 'B'\n",
    "        player_moves = len(game.get_possible_moves(player))\n",
    "        opponent_moves = len(game.get_possible_moves(opponent))\n",
    "        return player_moves - opponent_moves"
   ],
   "metadata": {
    "collapsed": false
   }
  },
  {
   "cell_type": "markdown",
   "source": [
    "4.3.2. PieceMobilityHeuristic - Liczba mobilnych pionków\n",
    "Ta strategia ocenia liczbę pionków, które mogą wykonać ruch.\n",
    "pythonclass PieceMobilityHeuristic(ClobberHeuristic):\n",
    "    \"\"\"Heuristics based on the number of mobile pieces\"\"\"\n",
    "    def evaluate(self, game, player):\n",
    "        mobile_pieces = set()\n",
    "        for move in game.get_possible_moves(player):\n",
    "            x1, y1, _, _ = move\n",
    "            mobile_pieces.add((x1, y1))\n",
    "        return len(mobile_pieces)"
   ],
   "metadata": {
    "collapsed": false
   }
  },
  {
   "cell_type": "markdown",
   "source": [
    "4.3.3. CenterControlHeuristic - Kontrola centrum\n",
    "Ta strategia faworyzuje kontrolę centrum planszy, przyznając więcej punktów za pionki znajdujące się bliżej środka.\n",
    "pythonclass CenterControlHeuristic(ClobberHeuristic):\n",
    "    \"\"\"Heuristics based on the control of the center positions\"\"\"\n",
    "    def evaluate(self, game, player):\n",
    "        center_i, center_j = game.size[0] // 2, game.size[1] // 2\n",
    "        score = 0\n",
    "        opponent = 'W' if player == 'B' else 'B'\n",
    "\n",
    "        for i in range(game.size[0]):\n",
    "            for j in range(game.size[1]):\n",
    "                if game.board[i, j] == player:\n",
    "                    # Odległość od centrum\n",
    "                    distance = abs(i - center_i) + abs(j - center_j)\n",
    "                    score += (game.size[0] + game.size[1]) - distance\n",
    "                elif game.board[i, j] == opponent:\n",
    "                    distance = abs(i - center_i) + abs(j - center_j)\n",
    "                    score -= (game.size[0] + game.size[1]) - distance\n",
    "\n",
    "        return score"
   ],
   "metadata": {
    "collapsed": false
   }
  },
  {
   "cell_type": "markdown",
   "source": [
    "4.3.4. AdjacentOpponentHeuristic - Sąsiadujące pionki przeciwnika\n",
    "Ta strategia ocenia liczbę pionków przeciwnika, które sąsiadują z pionkami gracza, czyli potencjalne cele do zbicia.\n",
    "pythonclass AdjacentOpponentHeuristic(ClobberHeuristic):\n",
    "    \"\"\"Heuristics based on the number of adjacent opponent pieces\"\"\"\n",
    "    def evaluate(self, game, player):\n",
    "        opponent = 'W' if player == 'B' else 'B'\n",
    "        score = 0\n",
    "        directions = [(-1, 0), (1, 0), (0, -1), (0, 1)]\n",
    "\n",
    "        for i in range(game.size[0]):\n",
    "            for j in range(game.size[1]):\n",
    "                if game.board[i, j] == player:\n",
    "                    # Sprawdzenie sąsiednich pozycji w poszukiwaniu pionków przeciwnika\n",
    "                    for di, dj in directions:\n",
    "                        ni, nj = i + di, j + dj\n",
    "                        if (0 <= ni < game.size[0] and 0 <= nj < game.size[1] and\n",
    "                                game.board[ni, nj] == opponent):\n",
    "                            score += 1\n",
    "\n",
    "        return score"
   ],
   "metadata": {
    "collapsed": false
   }
  },
  {
   "cell_type": "raw",
   "source": [
    "4.3.5. OpponentBlockingHeuristic - Blokowanie przeciwnika\n",
    "Ta strategia koncentruje się na stosunku własnej mobilności do mobilności przeciwnika, szczególnie efektywna w końcowej fazie gry.\n",
    "pythonclass OpponentBlockingHeuristic(ClobberHeuristic):\n",
    "    \"\"\"Heuristics based on the number of opponent pieces that can be blocked\"\"\"\n",
    "    def evaluate(self, game, player):\n",
    "        opponent = 'W' if player == 'B' else 'B'\n",
    "        player_moves = len(game.get_possible_moves(player))\n",
    "        opponent_moves = len(game.get_possible_moves(opponent))\n",
    "\n",
    "        if opponent_moves == 0:\n",
    "            return float('inf')  # Wygrana\n",
    "        elif player_moves == 0:\n",
    "            return float('-inf')  # Przegrana\n",
    "        else:\n",
    "            return player_moves / (opponent_moves + 1)  # +1 dla uniknięcia"
   ],
   "metadata": {
    "collapsed": false
   }
  },
  {
   "cell_type": "raw",
   "source": [
    "4.3.6 AdaptiveHeuristic - Heurystyka adaptacyjna\n",
    "Ta strategia łączy różne heurystyki, przyznając im różne wagi w zależności od fazy gry. Wagi można dostosować w zależności od strategii.\n",
    "\n",
    "class AdaptiveHeuristic(ClobberHeuristic):\n",
    "    \"\"\"heuristics based on the game phase\"\"\"\n",
    "\n",
    "    def __init__(self):\n",
    "        self.mobility_diff = MobilityDifferenceHeuristic()\n",
    "        self.center_control = CenterControlHeuristic()\n",
    "        self.opponent_blocking = OpponentBlockingHeuristic()\n",
    "\n",
    "    def evaluate(self, game, player):\n",
    "\n",
    "        player_pieces = np.sum(game.board == player)\n",
    "        opponent = 'W' if player == 'B' else 'B'\n",
    "        opponent_pieces = np.sum(game.board == opponent)\n",
    "        total_pieces = player_pieces + opponent_pieces\n",
    "\n",
    "\n",
    "        initial_pieces = game.size[0] * game.size[1]\n",
    "        if total_pieces > 0.7 * initial_pieces:  # Early phase\n",
    "            return self.center_control.evaluate(game, player)\n",
    "        elif total_pieces > 0.3 * initial_pieces:  # Mid phase\n",
    "            return self.mobility_diff.evaluate(game, player)\n",
    "        else:  # End phase\n",
    "            return self.opponent_blocking.evaluate(game, player)"
   ],
   "metadata": {
    "collapsed": false
   }
  },
  {
   "cell_type": "markdown",
   "source": [
    "4.4. Implementacja agenta Minimax\n",
    "Agent Minimax jest zaimplementowany w klasie MinimaxAgent"
   ],
   "metadata": {
    "collapsed": false
   }
  },
  {
   "cell_type": "markdown",
   "source": [
    "### 5. Agent Adaptacyjny ###"
   ],
   "metadata": {
    "collapsed": false
   }
  },
  {
   "cell_type": "markdown",
   "source": [
    "Agent adaptacyjny wybiera heurystykę na podstawie:\n",
    "\n",
    "1. Fazy gry (wczesna, środkowa, końcowa) określanej przez zapełnienie planszy\n",
    "2. Analizy wzorców ruchów przeciwnika, klasyfikowanych jako:\n",
    "\n",
    "    Agresywne (zwiększające liczbę możliwości zbicia)\n",
    "    Defensywne (zmniejszające liczbę zagrożonych pionków)\n",
    "    Centralne (skupione na kontroli centrum)"
   ],
   "metadata": {
    "collapsed": false
   }
  },
  {
   "cell_type": "markdown",
   "source": [
    "Agent adaptacyjny zaimplementowany jest w pliku MinimaxAgent.py w klasie AdaptiveMinimaxAgent"
   ],
   "metadata": {
    "collapsed": false
   }
  },
  {
   "cell_type": "markdown",
   "source": [
    "### 6. Przykład działania algorytmu ###"
   ],
   "metadata": {
    "collapsed": false
   }
  },
  {
   "cell_type": "raw",
   "source": [
    "Rozważmy przykład działania algorytmu na prostej planszy Clobber 3×3 z następującym układem:\n",
    "    B W B\n",
    "    W B W\n",
    "    B W B\n",
    "Załóżmy, że tura należy do gracza B, używamy MobilityDifferenceHeuristic z głębokością przeszukiwania d=2 i włączonymi cięciami alfa-beta.\n",
    "\n",
    "Stan początkowy:\n",
    "\n",
    "    Gracz B ma 6 możliwych ruchów: (0,0)→(0,1), (1,1)→(0,1), (1,1)→(1,0), (1,1)→(1,2), (2,0)→(1,0), (2,2)→(1,2)\n",
    "    Gracz W również ma 6 możliwych ruchów\n",
    "    Wartość heurystyczna = 0 (różnica mobilności)\n",
    "\n",
    "\n",
    "Agent oblicza najlepszy ruch, analizując każdy możliwy ruch i jego konsekwencje:\n",
    "a. Dla ruchu (0,0)→(0,1):\n",
    "Po ruchu plansza wygląda tak:\n",
    "    _ B B\n",
    "    W B W\n",
    "    B W B\n",
    "W tej sytuacji gracz W ma 3 możliwe ruchy, a gracz B ma 3 ruchy.\n",
    "Wartość heurystyczna: 3-3 = 0\n",
    "c. Dla ruchu (1,1)→(1,0):\n",
    "Po ruchu plansza wygląda tak:\n",
    "    B W B\n",
    "    B _ W\n",
    "    B W B\n",
    "W tej sytuacji gracz W ma 3 możliwe ruchy, a gracz B ma 3 ruchy.\n",
    "Wartość heurystyczna: 3-3 = 0\n",
    "d. Dla ruchu (1,1)→(1,2):\n",
    "Po ruchu plansza wygląda tak:\n",
    "    B W B\n",
    "    W _ B\n",
    "    B W B\n",
    "W tej sytuacji gracz W ma 3 możliwe ruchy, a gracz B ma 3 ruchy.\n",
    "Wartość heurystyczna: 3-3 = 0\n",
    "e. Dla ruchu (2,0)→(1,0):\n",
    "Po ruchu plansza wygląda tak:\n",
    "    B W B\n",
    "    B B W\n",
    "    _ W B\n",
    "W tej sytuacji gracz W ma 3 możliwe ruchy, a gracz B ma 3 ruchy.\n",
    "Wartość heurystyczna: 3-3 = 0\n",
    "f. Dla ruchu (2,2)→(1,2):\n",
    "Po ruchu plansza wygląda tak:\n",
    "    B W B\n",
    "    W B B\n",
    "    B W _\n",
    "W tej sytuacji gracz W ma 3 możliwe ruchy, a gracz B ma 3 ruchy.\n",
    "Wartość heurystyczna: 3-3 = 0\n",
    "\n",
    "\n",
    "\n",
    "Algorytm alfa-beta analizuje te możliwości i dzięki cięciom pomija część drzewa gry. Po pełnej analizie stwierdza, że ruch (0,0)→(0,1) daje największą przewagę heurystyczną (wartość 1) i wybiera ten ruch.\n",
    "Licznik odwiedzonych węzłów (nodes_visited) zostaje zaktualizowany podczas przeszukiwania. Dla tego prostego przykładu, algorytm alfa-beta odwiedza znacznie mniej węzłów niż czysty Minimax."
   ],
   "metadata": {
    "collapsed": false
   }
  },
  {
   "cell_type": "markdown",
   "source": [],
   "metadata": {
    "collapsed": false
   }
  },
  {
   "cell_type": "markdown",
   "source": [
    "### 7. Implementacja głównej funkcji rozgrywki ###"
   ],
   "metadata": {
    "collapsed": false
   }
  },
  {
   "cell_type": "markdown",
   "source": [
    "Funkcja play_game w module Clobber.py umożliwia przeprowadzenie pełnej rozgrywki między dwoma agentami oraz zbieranie statystyk:\n"
   ],
   "metadata": {
    "collapsed": false
   }
  },
  {
   "cell_type": "markdown",
   "source": [
    "def play_game(agent1, agent2, initial_board=None, size=(5, 6), max_rounds=100, silent=False):\n",
    "    \"\"\"\n",
    "    Przeprowadzenie pełnej rozgrywki między dwoma agentami.\n",
    "\n",
    "    Argumenty:\n",
    "        agent1: Agent dla gracza 1 (czarny).\n",
    "        agent2: Agent dla gracza 2 (biały).\n",
    "        initial_board: Opcjonalna początkowa plansza.\n",
    "        size: Rozmiar planszy.\n",
    "        max_rounds: Maksymalna liczba rund, aby zapobiec nieskończonym grom.\n",
    "        silent: Czy wyłączyć wyświetlanie informacji na konsoli.\n",
    "\n",
    "    Zwraca:\n",
    "        krotka: (final_game, result_dict) gdzie result_dict zawiera statystyki\n",
    "    \"\"\"\n",
    "    game = ClobberGame(initial_board, size)\n",
    "    current_player = 'B'  # Czarny zaczyna\n",
    "    rounds = 0\n",
    "\n",
    "    # Śledzenie statystyk\n",
    "    total_nodes_black = 0\n",
    "    total_nodes_white = 0\n",
    "    total_time_black = 0\n",
    "    total_time_white = 0\n",
    "\n",
    "    if not silent:\n",
    "        print(\"Start Board:\")\n",
    "        game.print_board()\n",
    "        print()\n",
    "\n",
    "    while not game.is_game_over() and rounds < max_rounds:\n",
    "        if current_player == 'B':\n",
    "            rounds += 1\n",
    "            if not silent:\n",
    "                print(f\"Round {rounds}:\")\n",
    "\n",
    "        if not silent:\n",
    "            print(f\"Player's move: {current_player}\")\n",
    "\n",
    "        # Wybór ruchu\n",
    "        if current_player == 'B':\n",
    "            start_time = time.time()\n",
    "            move = agent1.get_move(game)\n",
    "            end_time = time.time()\n",
    "\n",
    "            nodes = agent1.nodes_visited\n",
    "            elapsed = end_time - start_time\n",
    "\n",
    "            # Aktualizacja statystyk\n",
    "            total_nodes_black += nodes\n",
    "            total_time_black += elapsed\n",
    "\n",
    "            # Rejestracja ruchu dla adaptacyjnego agenta\n",
    "            if isinstance(agent2, AdaptiveMinimaxAgent):\n",
    "                agent2.register_opponent_move(move)\n",
    "\n",
    "        else:  # current_player == 'W'\n",
    "            start_time = time.time()\n",
    "            move = agent2.get_move(game)\n",
    "            end_time = time.time()\n",
    "\n",
    "            nodes = agent2.nodes_visited\n",
    "            elapsed = end_time - start_time\n",
    "\n",
    "            # Aktualizacja statystyk\n",
    "            total_nodes_white += nodes\n",
    "            total_time_white += elapsed\n",
    "\n",
    "            # Rejestracja ruchu dla adaptacyjnego agenta\n",
    "            if isinstance(agent1, AdaptiveMinimaxAgent):\n",
    "                agent1.register_opponent_move(move)\n",
    "\n",
    "        # Wykonanie ruchu\n",
    "        game = game.make_move(move)\n",
    "\n",
    "        # Zmiana gracza\n",
    "        current_player = 'W' if current_player == 'B' else 'B'\n",
    "\n",
    "    # Określenie zwycięzcy\n",
    "    winner = 'W' if current_player == 'B' else 'B'  # Gracz, który wykonał ostatni ruch\n",
    "\n",
    "    # Utworzenie słownika z wynikami\n",
    "    result = {\n",
    "        \"winner\": winner,\n",
    "        \"rounds\": rounds,\n",
    "        \"nodes_black\": total_nodes_black,\n",
    "        \"nodes_white\": total_nodes_white,\n",
    "        \"time_black\": total_time_black,\n",
    "        \"time_white\": total_time_white\n",
    "    }\n",
    "\n",
    "    return game, result"
   ],
   "metadata": {
    "collapsed": false
   }
  },
  {
   "cell_type": "markdown",
   "source": [
    "### 8. Wykorzystane materiały i biblioteki ###"
   ],
   "metadata": {
    "collapsed": false
   }
  },
  {
   "cell_type": "markdown",
   "source": [
    "8.1. Materiały źródłowe\n",
    "\n",
    "Lista zadań \"Sztuczna inteligencja i inżynieria wiedzy, Lista 2\"\n",
    "Wykłady\n",
    "Dokumentacja zasad gry Clobber dostępna online"
   ],
   "metadata": {
    "collapsed": false
   }
  },
  {
   "cell_type": "markdown",
   "source": [
    "8.2. Wykorzystane biblioteki\n",
    "\n",
    "Python 3.8+ - język implementacji\n",
    "NumPy - do efektywnych operacji na tablicach 2D reprezentujących planszę\n",
    "time - do pomiaru czasu wykonania algorytmu\n",
    "copy - do tworzenia głębokich kopii stanów gry\n",
    "abc - do tworzenia abstrakcyjnych klas bazowych dla heurystyk"
   ],
   "metadata": {
    "collapsed": false
   }
  },
  {
   "cell_type": "markdown",
   "source": [
    "### 9. Podsumowanie i napotkane problemy ###"
   ],
   "metadata": {
    "collapsed": false
   }
  },
  {
   "cell_type": "markdown",
   "source": [
    "9.1 Co dało nam Alpha-Beta pruning?\n",
    "\n"
   ],
   "metadata": {
    "collapsed": false
   }
  },
  {
   "cell_type": "raw",
   "source": [
    "Dało całkiem sporo.\n",
    "\n",
    "Dla max_depth=2 mamy odpowiednio:\n",
    "    (alpha_beta_False)\n",
    "        Nodes visited:435807\n",
    "        Time elapsed:16.71601915359497 s\n",
    "        Average Time elapsed:0.4643338653776381\n",
    "    (alpha_beta_True)\n",
    "        Nodes visited:77095\n",
    "        Time elapsed:2.9742271900177 s\n",
    "        Average Time elapsed:0.08261742194493611\n",
    "\n",
    "Dla max_depth=3 mamy odpowiednio:\n",
    "    (alpha_beta_False)\n",
    "        Nodes visited:12122402\n",
    "        Time elapsed:563.888513803482 s\n",
    "        Average Time elapsed:13.967426326539782 s\n",
    "    (alpha_beta_True)\n",
    "        Nodes visited:811350\n",
    "        Time elapsed:31.345833778381348 s\n",
    "        Average Time elapsed:0.8707176049550375\n"
   ],
   "metadata": {
    "collapsed": false
   }
  },
  {
   "cell_type": "markdown",
   "source": [
    "Gołym okiem widać ile daje cięcie alfa-beta. Nie wykonywałem testów dla max_depth=4 , ponieważ czas wykonania byłby zbyt długi. Widać, że przy max_depth=3 czas wykonania wzrasta wykładniczo, a przy max_depth=2 jest to już całkiem znośny czas."
   ],
   "metadata": {
    "collapsed": false
   }
  },
  {
   "cell_type": "markdown",
   "source": [
    "Wykonałem test dla max_depth=4 i 5, ale tylko z włączonym cięciem alfa-beta."
   ],
   "metadata": {
    "collapsed": false
   }
  },
  {
   "cell_type": "markdown",
   "source": [
    "  max_depth=4\n",
    "        Nodes visited:3622174\n",
    "        Time elapsed:142.60081601142883 s\n",
    "        Average Time elapsed:3.9611337780952454 s\n",
    "  max_depth=5\n",
    "        Nodes visited:26931777\n",
    "        Time elapsed:1092.9084997177124 s\n",
    "        Average Time elapsed:30.358569436603123 s\n",
    "\n"
   ],
   "metadata": {
    "collapsed": false
   }
  },
  {
   "cell_type": "markdown",
   "source": [
    "Porównując średni czas, widać wzrost wykładniczy."
   ],
   "metadata": {
    "collapsed": false
   }
  },
  {
   "cell_type": "raw",
   "source": [],
   "metadata": {
    "collapsed": false
   }
  },
  {
   "cell_type": "code",
   "execution_count": 2,
   "outputs": [
    {
     "data": {
      "image/png": "[encoded data removed]",
      "text/plain": "<IPython.core.display.Image object>"
     },
     "execution_count": 2,
     "metadata": {},
     "output_type": "execute_result"
    }
   ],
   "source": [
    "from IPython.display import Image\n",
    "Image(\"trendline.png\")"
   ],
   "metadata": {
    "collapsed": false,
    "ExecuteTime": {
     "end_time": "2025-05-06T17:07:27.510614Z",
     "start_time": "2025-05-06T17:07:27.503146Z"
    }
   }
  },
  {
   "cell_type": "markdown",
   "source": [
    "9.2. Problemy"
   ],
   "metadata": {
    "collapsed": false
   }
  },
  {
   "cell_type": "markdown",
   "source": [
    "Znalezienie odpowiedniej funkcji heurystycznej, która dobrze przewidywałaby końcowy wynik gry, było trudne. Testowano różne podejścia, ale najlepsze wyniki osiągnięto dla kombinacji heurystyk mobilności i kontroli centrum."
   ],
   "metadata": {
    "collapsed": false
   }
  },
  {
   "cell_type": "markdown",
   "source": [
    "Dla większych plansz i głębokości przeszukiwania czas wykonania algorytmu stawał się nieakceptowalnie długi. Problem został częściowo rozwiązany przez implementację cięć alfa-beta, ale dla głębokości większych niż 5-6 na standardowej planszy 5×6 czas wykonania nadal był znaczący. Próbowano liczyć na planszy 10x10, ale czas był nieakceptowalny."
   ],
   "metadata": {
    "collapsed": false
   }
  },
  {
   "cell_type": "markdown",
   "source": [
    "9.3 Wnioski"
   ],
   "metadata": {
    "collapsed": false
   }
  },
  {
   "cell_type": "markdown",
   "source": [
    "Zaimplementowany algorytm Minimax z cięciami alfa-beta skutecznie znajduje optymalne ruchy w grze Clobber dla ograniczonej głębokości przeszukiwania. Jakość gry jest silnie zależna od zastosowanej funkcji heurystycznej. I tak na prawdę cała zabawa polega na wymyśleniu i opracowaniu dobrej funkcji heurystycznej. W moim przypadku, najlepszą heurystyką okazałą się heurystyka oparta na kontroli centralnych pól. Z coraz większą głębokością, ta heurystyka zwiększała swoją dominacje nad innymi."
   ],
   "metadata": {
    "collapsed": false
   }
  },
  {
   "cell_type": "code",
   "execution_count": null,
   "outputs": [],
   "source": [],
   "metadata": {
    "collapsed": false
   }
  },
  {
   "cell_type": "code",
   "execution_count": null,
   "outputs": [],
   "source": [],
   "metadata": {
    "collapsed": false
   }
  },
  {
   "cell_type": "code",
   "execution_count": null,
   "outputs": [],
   "source": [],
   "metadata": {
    "collapsed": false
   }
  }
 ],
 "metadata": {
  "kernelspec": {
   "display_name": "Python 3",
   "language": "python",
   "name": "python3"
  },
  "language_info": {
   "codemirror_mode": {
    "name": "ipython",
    "version": 2
   },
   "file_extension": ".py",
   "mimetype": "text/x-python",
   "name": "python",
   "nbconvert_exporter": "python",
   "pygments_lexer": "ipython2",
   "version": "2.7.6"
  }
 },
 "nbformat": 4,
 "nbformat_minor": 0
}
